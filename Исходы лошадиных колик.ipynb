{
 "cells": [
  {
   "cell_type": "markdown",
   "metadata": {
    "id": "AE49EvJOdYCU"
   },
   "source": [
    "**ИЗУЧЕНИЕ НАБОРА ДАННЫХ О СОСТОЯНИИ ЗДОРОВЬЯ ЛОШАДЕЙ**\n",
    "\n",
    "Изучим закономерности в наборе данных о состоянии здоровья лошадей, испытывающих кишечные колики для корректного заполнения пропусков и выявления основных закономерностей.\n",
    "\n",
    "Изучаемый набор данных содержит характеристики, связанные со здоровьем животного. Объекты имеют 3 типа исходов - \"умерла\", \"подверглась эвтаназии\" и \"жива\".\n",
    "\n",
    "* Умерла:  что лошадь умерла из-за проблем со здоровьем.\n",
    "\n",
    "* Эвтаназия: гуманное умерщвление лошади. Иногда тяжелые болезни и несчастные случаи причиняют лошадям страдания. Владельцы добровольно подвергают таких животных эвтаназии, часто путем физического разрушения мозга выстрелами.\n",
    "\n",
    "* Выжила: Это означает, что лошадь либо выжила после болезни, либо никогда не имела проблем со здоровьем. Более подробную информацию мы можем получить во время EDA.\n",
    "\n",
    "Некоторые медицинские термины\n",
    "\n",
    "* Ректальная температура: Нормальный диапазон ректальной температуры лошади составляет 37,5-38,6ºC.\n",
    "\n",
    "* Пульс: У взрослых лошадей пульс в норме составляет от 28 до 40 ударов в минуту. У новорожденных жеребят частота пульса колеблется от 80 до 120, у жеребят постарше - от 60 до 80, а у годовалых лошадей - от 40 до 60 ударов в минуту.\n",
    "\n",
    "* Частота дыхания: Нормальная частота дыхания для лошади составляет от 8 до 16 вдохов в минуту.\n",
    "\n",
    "* Температура конечностей: Это температура частей тела, удаленных от основной части тела, таких как ноги, копыта и т.д.\n",
    "\n",
    "* Периферический пульс: Периферический пульс означает пальпацию волны высокого давления крови, отходящей от сердца по сосудам конечностей.\n",
    "\n",
    "\n",
    "\n"
   ]
  },
  {
   "cell_type": "markdown",
   "metadata": {
    "id": "AE49EvJOdYCU"
   },
   "source": [
    "Для исследования выберем признаки surgery?, Age, rectal temperature, pulse, respiratory rate, temperature of extremities, pain, outcome."
   ]
  },
  {
   "cell_type": "code",
   "execution_count": 241,
   "metadata": {
    "colab": {
     "base_uri": "https://localhost:8080/",
     "height": 73
    },
    "id": "Wnz-xGttdmJZ",
    "outputId": "81c2a285-2410-48dd-99e6-6fea4678bcca",
    "tags": []
   },
   "outputs": [],
   "source": [
    "import pandas as pd\n",
    "import numpy as np\n",
    "import matplotlib.pyplot as plt\n",
    "import seaborn as sns\n",
    "\n",
    "horses = pd.read_csv('horse_data.txt')"
   ]
  },
  {
   "cell_type": "code",
   "execution_count": 243,
   "metadata": {
    "id": "NspJCEZIbRZa",
    "tags": []
   },
   "outputs": [],
   "source": [
    "\n",
    "full_list=['surgery?', 'age', 'Hospital Number', 'rectal temperature', 'pulse', 'respiratory rate', \n",
    "                          'temperature of extremities', 'peripheral pulse', 'mucous membranes', 'capillary refill time', \n",
    "                          'pain', 'peristalsis', 'abdominal distension', 'nasogastric tube', 'nasogastric reflux',\n",
    "                          'nasogastric reflux PH', 'rectal examination - feces', 'abdomen', 'packed cell volume',\n",
    "                          'total protein', 'abdominocentesis appearance', 'abdomcentesis total protein', 'outcome',\n",
    "                          'surgical lesion?', '25', '26', '27', 'cp_data']\n",
    "selection_list=['surgery?', 'Age', 'rectal temperature', 'pulse', 'respiratory rate', 'temperature of extremities', 'pain', 'outcome']  \n",
    "full_series=pd.Series(full_list)                \n",
    "usecols=full_series[full_series.isin(selection_list)]                 "
   ]
  },
  {
   "cell_type": "code",
   "execution_count": 245,
   "metadata": {
    "colab": {
     "base_uri": "https://localhost:8080/",
     "height": 206
    },
    "id": "DvmRdeFkeDeJ",
    "outputId": "b8cafa2c-a770-4c03-ebf6-20d5eb6ea601",
    "tags": []
   },
   "outputs": [
    {
     "data": {
      "text/html": [
       "<div>\n",
       "<style scoped>\n",
       "    .dataframe tbody tr th:only-of-type {\n",
       "        vertical-align: middle;\n",
       "    }\n",
       "\n",
       "    .dataframe tbody tr th {\n",
       "        vertical-align: top;\n",
       "    }\n",
       "\n",
       "    .dataframe thead th {\n",
       "        text-align: right;\n",
       "    }\n",
       "</style>\n",
       "<table border=\"1\" class=\"dataframe\">\n",
       "  <thead>\n",
       "    <tr style=\"text-align: right;\">\n",
       "      <th></th>\n",
       "      <th>surgery?</th>\n",
       "      <th>rectal temperature</th>\n",
       "      <th>pulse</th>\n",
       "      <th>respiratory rate</th>\n",
       "      <th>temperature of extremities</th>\n",
       "      <th>pain</th>\n",
       "      <th>outcome</th>\n",
       "    </tr>\n",
       "  </thead>\n",
       "  <tbody>\n",
       "    <tr>\n",
       "      <th>0</th>\n",
       "      <td>2.0</td>\n",
       "      <td>38.5</td>\n",
       "      <td>66.0</td>\n",
       "      <td>28.0</td>\n",
       "      <td>3.0</td>\n",
       "      <td>5.0</td>\n",
       "      <td>2.0</td>\n",
       "    </tr>\n",
       "    <tr>\n",
       "      <th>1</th>\n",
       "      <td>1.0</td>\n",
       "      <td>39.2</td>\n",
       "      <td>88.0</td>\n",
       "      <td>20.0</td>\n",
       "      <td>NaN</td>\n",
       "      <td>3.0</td>\n",
       "      <td>3.0</td>\n",
       "    </tr>\n",
       "    <tr>\n",
       "      <th>2</th>\n",
       "      <td>2.0</td>\n",
       "      <td>38.3</td>\n",
       "      <td>40.0</td>\n",
       "      <td>24.0</td>\n",
       "      <td>1.0</td>\n",
       "      <td>3.0</td>\n",
       "      <td>1.0</td>\n",
       "    </tr>\n",
       "    <tr>\n",
       "      <th>3</th>\n",
       "      <td>1.0</td>\n",
       "      <td>39.1</td>\n",
       "      <td>164.0</td>\n",
       "      <td>84.0</td>\n",
       "      <td>4.0</td>\n",
       "      <td>2.0</td>\n",
       "      <td>2.0</td>\n",
       "    </tr>\n",
       "    <tr>\n",
       "      <th>4</th>\n",
       "      <td>2.0</td>\n",
       "      <td>37.3</td>\n",
       "      <td>104.0</td>\n",
       "      <td>35.0</td>\n",
       "      <td>NaN</td>\n",
       "      <td>NaN</td>\n",
       "      <td>2.0</td>\n",
       "    </tr>\n",
       "  </tbody>\n",
       "</table>\n",
       "</div>"
      ],
      "text/plain": [
       "   surgery?  rectal temperature  pulse  respiratory rate  \\\n",
       "0       2.0                38.5   66.0              28.0   \n",
       "1       1.0                39.2   88.0              20.0   \n",
       "2       2.0                38.3   40.0              24.0   \n",
       "3       1.0                39.1  164.0              84.0   \n",
       "4       2.0                37.3  104.0              35.0   \n",
       "\n",
       "   temperature of extremities  pain  outcome  \n",
       "0                         3.0   5.0      2.0  \n",
       "1                         NaN   3.0      3.0  \n",
       "2                         1.0   3.0      1.0  \n",
       "3                         4.0   2.0      2.0  \n",
       "4                         NaN   NaN      2.0  "
      ]
     },
     "execution_count": 245,
     "metadata": {},
     "output_type": "execute_result"
    }
   ],
   "source": [
    "horse=pd.read_csv('horse_data.txt', header=None, usecols=usecols.index, na_values='?', names=usecols)\n",
    "horse.head()"
   ]
  },
  {
   "cell_type": "markdown",
   "metadata": {
    "id": "LlliHUdnL75Z"
   },
   "source": [
    "В нашем распоряжении данные следующих видов:\n",
    "\n",
    "1) Номинальные бинарные: surgery?\n",
    "\n",
    "2) Интервальные: rectal temperature, \tpulse, \trespiratory rate \t\n",
    "\n",
    "3) Порядковые: temperature of extremities, \tpain. \n",
    "\n",
    "В первом признаке похоже нарушен порядок кодировки (перепутан порядок warm и normal). В таком виде данный признак превращается в категориальный, и должен быть векторизирован. Альтернативно, мы можем сгрупировать классы данного признака и бинаризировать на пары \"normal+warm\"/\"cool+cold\". Поскольку уточнения в задании отсутствуют, данный параметр оставлен без изменения.\n",
    "\n",
    "4) Категориальные: \toutcome (Строго говоря могут быть разбиты на 2 бинарных признака: 'lived' и 'died/'euthanized')\n",
    "\n",
    "В данном ноутбуке преобразовываем только признак surgery?"
   ]
  },
  {
   "cell_type": "code",
   "execution_count": 247,
   "metadata": {
    "id": "wgFnU_-MN-ui",
    "tags": []
   },
   "outputs": [],
   "source": [
    "horse['surgery?']=np.where(horse['surgery?']==1, True, False)\n"
   ]
  },
  {
   "cell_type": "code",
   "execution_count": 248,
   "metadata": {
    "colab": {
     "base_uri": "https://localhost:8080/"
    },
    "id": "VvkQifgjXEJO",
    "outputId": "2a1f44f0-f404-44f7-d53d-2c286553aa84",
    "tags": []
   },
   "outputs": [
    {
     "data": {
      "text/plain": [
       "Index(['surgery?', 'rectal temperature', 'pulse', 'respiratory rate',\n",
       "       'temperature of extremities', 'pain', 'outcome'],\n",
       "      dtype='object')"
      ]
     },
     "execution_count": 248,
     "metadata": {},
     "output_type": "execute_result"
    }
   ],
   "source": [
    "horse.columns"
   ]
  },
  {
   "cell_type": "markdown",
   "metadata": {
    "id": "9GCWN9fqdhWe"
   },
   "source": [
    "\n",
    "**Первичное изучение данных**\n",
    "\n",
    "Начинаем наше исследование с анализа значения по столбцам, рассчёта основных статистик и определения выбросов"
   ]
  },
  {
   "cell_type": "markdown",
   "metadata": {
    "id": "g71Pvx9ejXc9"
   },
   "source": [
    "Для начала выясним, насколько связаны между собою наблюдения сгрупированные по исходам. Для этого проанализируем эти подвыборки методом Manova."
   ]
  },
  {
   "cell_type": "code",
   "execution_count": 252,
   "metadata": {
    "colab": {
     "base_uri": "https://localhost:8080/"
    },
    "id": "E6_xc_vFXEBb",
    "outputId": "8d6db796-f44f-4f0b-8c1a-a7ec4444d732",
    "tags": []
   },
   "outputs": [],
   "source": [
    "import pandas as pd\n",
    "from statsmodels.multivariate.manova import MANOVA\n",
    "horses=horse.copy()\n",
    "horses.columns=horses.columns.str.replace(\" \", \"\")\n",
    "horses.columns=horses.columns.str.replace(\"?\", \"\")"
   ]
  },
  {
   "cell_type": "code",
   "execution_count": 253,
   "metadata": {
    "colab": {
     "base_uri": "https://localhost:8080/"
    },
    "id": "z5FFkPwwkdn8",
    "outputId": "e72e754e-7847-4cfc-f9fb-7d3af5e4d569",
    "tags": []
   },
   "outputs": [
    {
     "name": "stdout",
     "output_type": "stream",
     "text": [
      "                  Multivariate linear model\n",
      "=============================================================\n",
      "                                                             \n",
      "-------------------------------------------------------------\n",
      "       Intercept        Value  Num DF  Den DF  F Value Pr > F\n",
      "-------------------------------------------------------------\n",
      "          Wilks' lambda 0.0000 6.0000 122.0000     inf 0.0000\n",
      "         Pillai's trace 1.0000 6.0000 122.0000     inf 0.0000\n",
      " Hotelling-Lawley trace    inf 6.0000 122.0000     inf 0.0000\n",
      "    Roy's greatest root    inf 6.0000 122.0000     inf 0.0000\n",
      "-------------------------------------------------------------\n",
      "                                                             \n",
      "-------------------------------------------------------------\n",
      "        outcome         Value  Num DF  Den DF  F Value Pr > F\n",
      "-------------------------------------------------------------\n",
      "          Wilks' lambda 0.8244 5.0000 123.0000  5.2384 0.0002\n",
      "         Pillai's trace 0.1756 5.0000 123.0000  5.2384 0.0002\n",
      " Hotelling-Lawley trace 0.2129 5.0000 123.0000  5.2384 0.0002\n",
      "    Roy's greatest root 0.2129 5.0000 123.0000  5.2384 0.0002\n",
      "=============================================================\n",
      "\n"
     ]
    },
    {
     "name": "stderr",
     "output_type": "stream",
     "text": [
      "C:\\ProgramData\\Anaconda3\\envs\\NEW\\lib\\site-packages\\statsmodels\\multivariate\\multivariate_ols.py:168: RuntimeWarning: divide by zero encountered in scalar divide\n",
      "  eigv1 = np.array([i / (1 - i) for i in eigv2])\n",
      "C:\\ProgramData\\Anaconda3\\envs\\NEW\\lib\\site-packages\\statsmodels\\multivariate\\multivariate_ols.py:168: RuntimeWarning: invalid value encountered in scalar divide\n",
      "  eigv1 = np.array([i / (1 - i) for i in eigv2])\n",
      "C:\\ProgramData\\Anaconda3\\envs\\NEW\\lib\\site-packages\\statsmodels\\multivariate\\multivariate_ols.py:199: RuntimeWarning: divide by zero encountered in scalar divide\n",
      "  F = (1 - lmd) / lmd * df2 / df1\n",
      "C:\\ProgramData\\Anaconda3\\envs\\NEW\\lib\\site-packages\\statsmodels\\multivariate\\multivariate_ols.py:209: RuntimeWarning: divide by zero encountered in scalar divide\n",
      "  F = df2 / df1 * V / (s - V)\n"
     ]
    }
   ],
   "source": [
    "maov = MANOVA.from_formula('surgery + rectaltemperature + pulse + respiratoryrate  + pain ~ outcome', data=horses.query('outcome!=2'))\n",
    "print(maov.mv_test())"
   ]
  },
  {
   "cell_type": "code",
   "execution_count": 254,
   "metadata": {
    "colab": {
     "base_uri": "https://localhost:8080/"
    },
    "id": "0IP2jJ24kl-A",
    "outputId": "bae954fc-e332-4dd8-80f6-a2659e347093",
    "tags": []
   },
   "outputs": [
    {
     "name": "stdout",
     "output_type": "stream",
     "text": [
      "                                 Multivariate linear model\n",
      "===========================================================================================\n",
      "                                                                                           \n",
      "-------------------------------------------------------------------------------------------\n",
      "       Intercept                Value         Num DF  Den DF         F Value         Pr > F\n",
      "-------------------------------------------------------------------------------------------\n",
      "          Wilks' lambda               -0.0000 6.0000 162.0000 -5066549580791835.0000 1.0000\n",
      "         Pillai's trace                1.0000 6.0000 162.0000 -5066549580791835.0000 1.0000\n",
      " Hotelling-Lawley trace -187649984473771.6562 6.0000 162.0000 -5066549580791835.0000 1.0000\n",
      "    Roy's greatest root -187649984473771.6562 6.0000 162.0000 -5066549580791835.0000 1.0000\n",
      "-------------------------------------------------------------------------------------------\n",
      "                                                                                           \n",
      "-------------------------------------------------------------------------------------------------\n",
      "              outcome               Value        Num DF        Den DF        F Value       Pr > F\n",
      "-------------------------------------------------------------------------------------------------\n",
      "                Wilks' lambda       0.7843       5.0000       163.0000        8.9643       0.0000\n",
      "               Pillai's trace       0.2157       5.0000       163.0000        8.9643       0.0000\n",
      "       Hotelling-Lawley trace       0.2750       5.0000       163.0000        8.9643       0.0000\n",
      "          Roy's greatest root       0.2750       5.0000       163.0000        8.9643       0.0000\n",
      "===========================================================================================\n",
      "\n"
     ]
    }
   ],
   "source": [
    "maov = MANOVA.from_formula('surgery + rectaltemperature + pulse + respiratoryrate  + pain ~ outcome', data=horses)\n",
    "print(maov.mv_test())"
   ]
  },
  {
   "cell_type": "code",
   "execution_count": 255,
   "metadata": {
    "colab": {
     "base_uri": "https://localhost:8080/"
    },
    "id": "jEfp9TnUkmHQ",
    "outputId": "a7b26aca-c820-4ee2-ba57-a4e7066d5d14",
    "tags": []
   },
   "outputs": [
    {
     "name": "stdout",
     "output_type": "stream",
     "text": [
      "                               Multivariate linear model\n",
      "=======================================================================================\n",
      "                                                                                       \n",
      "---------------------------------------------------------------------------------------\n",
      "       Intercept               Value         Num DF  Den DF       F Value        Pr > F\n",
      "---------------------------------------------------------------------------------------\n",
      "          Wilks' lambda               0.0000 6.0000 55.0000 971364625511274.3750 0.0000\n",
      "         Pillai's trace               1.0000 6.0000 55.0000 971364625511274.1250 0.0000\n",
      " Hotelling-Lawley trace 105967050055775.3750 6.0000 55.0000 971364625511274.2500 0.0000\n",
      "    Roy's greatest root 105967050055775.3750 6.0000 55.0000 971364625511274.2500 0.0000\n",
      "---------------------------------------------------------------------------------------\n",
      "                                                                                       \n",
      "--------------------------------------------------------------------------------------------\n",
      "               outcome              Value       Num DF       Den DF      F Value      Pr > F\n",
      "--------------------------------------------------------------------------------------------\n",
      "                 Wilks' lambda      0.9409      5.0000      56.0000       0.7040      0.6228\n",
      "                Pillai's trace      0.0594      5.0000      56.0000       0.7069      0.6207\n",
      "        Hotelling-Lawley trace      0.0626      5.0000      56.0000       0.7013      0.6248\n",
      "           Roy's greatest root      0.0585      5.0000      56.0000       0.6550      0.6589\n",
      "=======================================================================================\n",
      "\n"
     ]
    }
   ],
   "source": [
    "maov = MANOVA.from_formula('surgery + rectaltemperature + pulse + respiratoryrate  + pain ~ outcome', data=horses.query('outcome!=1'))\n",
    "print(maov.mv_test())"
   ]
  },
  {
   "cell_type": "markdown",
   "metadata": {
    "id": "VmRKvIx1k0e-"
   },
   "source": [
    "По данным Pr > F, различия между исходом 1 и исходами 2+3 значимы, а исходы 2 и 3 (умершие и усыплённые) статистически неразличимы (возможно результаты после нормализации данных будут отличаться).\n",
    "\n",
    "Поэтому, учитывая категориальный характер переменной outcome, мы будем рассматривать данные в разрезе исходов."
   ]
  },
  {
   "cell_type": "markdown",
   "metadata": {
    "id": "bDS1UhliABB9"
   },
   "source": [
    "Рассмотрим как меняются статистические данные по группам выживаемости/смертности"
   ]
  },
  {
   "cell_type": "code",
   "execution_count": 258,
   "metadata": {
    "colab": {
     "base_uri": "https://localhost:8080/",
     "height": 990
    },
    "id": "7C7iqViW9KPR",
    "outputId": "f3ea057b-bffa-4339-adbc-5157d86047e4",
    "tags": []
   },
   "outputs": [
    {
     "data": {
      "text/html": [
       "<div>\n",
       "<style scoped>\n",
       "    .dataframe tbody tr th:only-of-type {\n",
       "        vertical-align: middle;\n",
       "    }\n",
       "\n",
       "    .dataframe tbody tr th {\n",
       "        vertical-align: top;\n",
       "    }\n",
       "\n",
       "    .dataframe thead th {\n",
       "        text-align: right;\n",
       "    }\n",
       "</style>\n",
       "<table border=\"1\" class=\"dataframe\">\n",
       "  <thead>\n",
       "    <tr style=\"text-align: right;\">\n",
       "      <th></th>\n",
       "      <th>outcome</th>\n",
       "      <th>1.0</th>\n",
       "      <th>2.0</th>\n",
       "      <th>3.0</th>\n",
       "    </tr>\n",
       "  </thead>\n",
       "  <tbody>\n",
       "    <tr>\n",
       "      <th rowspan=\"5\" valign=\"top\">surgery?</th>\n",
       "      <th>count</th>\n",
       "      <td>178</td>\n",
       "      <td>77</td>\n",
       "      <td>44</td>\n",
       "    </tr>\n",
       "    <tr>\n",
       "      <th>min</th>\n",
       "      <td>False</td>\n",
       "      <td>False</td>\n",
       "      <td>False</td>\n",
       "    </tr>\n",
       "    <tr>\n",
       "      <th>max</th>\n",
       "      <td>True</td>\n",
       "      <td>True</td>\n",
       "      <td>True</td>\n",
       "    </tr>\n",
       "    <tr>\n",
       "      <th>mean</th>\n",
       "      <td>0.5</td>\n",
       "      <td>0.8</td>\n",
       "      <td>0.6</td>\n",
       "    </tr>\n",
       "    <tr>\n",
       "      <th>median</th>\n",
       "      <td>1.0</td>\n",
       "      <td>1.0</td>\n",
       "      <td>1.0</td>\n",
       "    </tr>\n",
       "    <tr>\n",
       "      <th rowspan=\"5\" valign=\"top\">rectal temperature</th>\n",
       "      <th>count</th>\n",
       "      <td>152</td>\n",
       "      <td>53</td>\n",
       "      <td>34</td>\n",
       "    </tr>\n",
       "    <tr>\n",
       "      <th>min</th>\n",
       "      <td>36.5</td>\n",
       "      <td>36.0</td>\n",
       "      <td>35.4</td>\n",
       "    </tr>\n",
       "    <tr>\n",
       "      <th>max</th>\n",
       "      <td>39.9</td>\n",
       "      <td>40.8</td>\n",
       "      <td>40.3</td>\n",
       "    </tr>\n",
       "    <tr>\n",
       "      <th>mean</th>\n",
       "      <td>38.2</td>\n",
       "      <td>38.2</td>\n",
       "      <td>38.1</td>\n",
       "    </tr>\n",
       "    <tr>\n",
       "      <th>median</th>\n",
       "      <td>38.2</td>\n",
       "      <td>38.1</td>\n",
       "      <td>38.0</td>\n",
       "    </tr>\n",
       "    <tr>\n",
       "      <th rowspan=\"5\" valign=\"top\">pulse</th>\n",
       "      <th>count</th>\n",
       "      <td>166</td>\n",
       "      <td>66</td>\n",
       "      <td>43</td>\n",
       "    </tr>\n",
       "    <tr>\n",
       "      <th>min</th>\n",
       "      <td>30.0</td>\n",
       "      <td>30.0</td>\n",
       "      <td>36.0</td>\n",
       "    </tr>\n",
       "    <tr>\n",
       "      <th>max</th>\n",
       "      <td>150.0</td>\n",
       "      <td>184.0</td>\n",
       "      <td>140.0</td>\n",
       "    </tr>\n",
       "    <tr>\n",
       "      <th>mean</th>\n",
       "      <td>63.4</td>\n",
       "      <td>87.2</td>\n",
       "      <td>81.7</td>\n",
       "    </tr>\n",
       "    <tr>\n",
       "      <th>median</th>\n",
       "      <td>54.0</td>\n",
       "      <td>86.0</td>\n",
       "      <td>82.0</td>\n",
       "    </tr>\n",
       "    <tr>\n",
       "      <th rowspan=\"5\" valign=\"top\">respiratory rate</th>\n",
       "      <th>count</th>\n",
       "      <td>147</td>\n",
       "      <td>58</td>\n",
       "      <td>36</td>\n",
       "    </tr>\n",
       "    <tr>\n",
       "      <th>min</th>\n",
       "      <td>8.0</td>\n",
       "      <td>12.0</td>\n",
       "      <td>12.0</td>\n",
       "    </tr>\n",
       "    <tr>\n",
       "      <th>max</th>\n",
       "      <td>96.0</td>\n",
       "      <td>96.0</td>\n",
       "      <td>80.0</td>\n",
       "    </tr>\n",
       "    <tr>\n",
       "      <th>mean</th>\n",
       "      <td>29.3</td>\n",
       "      <td>33.0</td>\n",
       "      <td>31.1</td>\n",
       "    </tr>\n",
       "    <tr>\n",
       "      <th>median</th>\n",
       "      <td>24.0</td>\n",
       "      <td>30.0</td>\n",
       "      <td>24.0</td>\n",
       "    </tr>\n",
       "    <tr>\n",
       "      <th rowspan=\"5\" valign=\"top\">temperature of extremities</th>\n",
       "      <th>count</th>\n",
       "      <td>146</td>\n",
       "      <td>64</td>\n",
       "      <td>33</td>\n",
       "    </tr>\n",
       "    <tr>\n",
       "      <th>min</th>\n",
       "      <td>1.0</td>\n",
       "      <td>1.0</td>\n",
       "      <td>1.0</td>\n",
       "    </tr>\n",
       "    <tr>\n",
       "      <th>max</th>\n",
       "      <td>4.0</td>\n",
       "      <td>4.0</td>\n",
       "      <td>4.0</td>\n",
       "    </tr>\n",
       "    <tr>\n",
       "      <th>mean</th>\n",
       "      <td>2.0</td>\n",
       "      <td>2.8</td>\n",
       "      <td>2.9</td>\n",
       "    </tr>\n",
       "    <tr>\n",
       "      <th>median</th>\n",
       "      <td>2.0</td>\n",
       "      <td>3.0</td>\n",
       "      <td>3.0</td>\n",
       "    </tr>\n",
       "    <tr>\n",
       "      <th rowspan=\"5\" valign=\"top\">pain</th>\n",
       "      <th>count</th>\n",
       "      <td>144</td>\n",
       "      <td>65</td>\n",
       "      <td>35</td>\n",
       "    </tr>\n",
       "    <tr>\n",
       "      <th>min</th>\n",
       "      <td>1.0</td>\n",
       "      <td>1.0</td>\n",
       "      <td>1.0</td>\n",
       "    </tr>\n",
       "    <tr>\n",
       "      <th>max</th>\n",
       "      <td>5.0</td>\n",
       "      <td>5.0</td>\n",
       "      <td>5.0</td>\n",
       "    </tr>\n",
       "    <tr>\n",
       "      <th>mean</th>\n",
       "      <td>2.5</td>\n",
       "      <td>3.7</td>\n",
       "      <td>3.3</td>\n",
       "    </tr>\n",
       "    <tr>\n",
       "      <th>median</th>\n",
       "      <td>3.0</td>\n",
       "      <td>4.0</td>\n",
       "      <td>3.0</td>\n",
       "    </tr>\n",
       "  </tbody>\n",
       "</table>\n",
       "</div>"
      ],
      "text/plain": [
       "outcome                              1.0    2.0    3.0\n",
       "surgery?                   count     178     77     44\n",
       "                           min     False  False  False\n",
       "                           max      True   True   True\n",
       "                           mean      0.5    0.8    0.6\n",
       "                           median    1.0    1.0    1.0\n",
       "rectal temperature         count     152     53     34\n",
       "                           min      36.5   36.0   35.4\n",
       "                           max      39.9   40.8   40.3\n",
       "                           mean     38.2   38.2   38.1\n",
       "                           median   38.2   38.1   38.0\n",
       "pulse                      count     166     66     43\n",
       "                           min      30.0   30.0   36.0\n",
       "                           max     150.0  184.0  140.0\n",
       "                           mean     63.4   87.2   81.7\n",
       "                           median   54.0   86.0   82.0\n",
       "respiratory rate           count     147     58     36\n",
       "                           min       8.0   12.0   12.0\n",
       "                           max      96.0   96.0   80.0\n",
       "                           mean     29.3   33.0   31.1\n",
       "                           median   24.0   30.0   24.0\n",
       "temperature of extremities count     146     64     33\n",
       "                           min       1.0    1.0    1.0\n",
       "                           max       4.0    4.0    4.0\n",
       "                           mean      2.0    2.8    2.9\n",
       "                           median    2.0    3.0    3.0\n",
       "pain                       count     144     65     35\n",
       "                           min       1.0    1.0    1.0\n",
       "                           max       5.0    5.0    5.0\n",
       "                           mean      2.5    3.7    3.3\n",
       "                           median    3.0    4.0    3.0"
      ]
     },
     "execution_count": 258,
     "metadata": {},
     "output_type": "execute_result"
    }
   ],
   "source": [
    "statoverview=horse.groupby('outcome').agg(['count','min', 'max', 'mean', 'median']).round(1)\n",
    "statoverview.T"
   ]
  },
  {
   "cell_type": "markdown",
   "metadata": {
    "id": "6s0uQn9xBPhe"
   },
   "source": [
    "Судя по данным:\n",
    "\n",
    "1) Хирургическое вмешательство чаще проводилось в случае выживших и усыплённых.\n",
    "\n",
    "2) Для умерших и усыплённых животных медианное значение пульса значительно выше чем для выживших. Похоже это самый значимо различающийся по значениям признак (необходима дальнейшая проверка).\n",
    "\n",
    "3) Медианная частота дыхания умерших животных выше чем у выживших и усыплённых.\n",
    "\n",
    "4) Температура конечностей для выживших животных медианно тёплая, для остальных групп медианно прохладная.\n",
    "\n",
    "5) Медианная болезненность выше для умерших животный\n"
   ]
  },
  {
   "cell_type": "markdown",
   "metadata": {
    "id": "aGDXEF7jISVL"
   },
   "source": [
    "Для начала определим признаки, в которых содержатся нетипичные значения. Это три интервальные переменные 'rectal temperature', 'pulse', 'respiratory rate'.\n",
    "Определим выбросы методом Тьюки для каждого исхода, а потом найдём выбросы по полной выборке. "
   ]
  },
  {
   "cell_type": "code",
   "execution_count": 261,
   "metadata": {
    "colab": {
     "base_uri": "https://localhost:8080/",
     "height": 678
    },
    "id": "lGDjM1VSKohR",
    "outputId": "67c5055f-cdd9-4f41-962d-5bb54cdaf8fa",
    "tags": []
   },
   "outputs": [
    {
     "data": {
      "text/html": [
       "<div>\n",
       "<style scoped>\n",
       "    .dataframe tbody tr th:only-of-type {\n",
       "        vertical-align: middle;\n",
       "    }\n",
       "\n",
       "    .dataframe tbody tr th {\n",
       "        vertical-align: top;\n",
       "    }\n",
       "\n",
       "    .dataframe thead tr th {\n",
       "        text-align: left;\n",
       "    }\n",
       "</style>\n",
       "<table border=\"1\" class=\"dataframe\">\n",
       "  <thead>\n",
       "    <tr>\n",
       "      <th></th>\n",
       "      <th colspan=\"2\" halign=\"left\">lived</th>\n",
       "      <th colspan=\"2\" halign=\"left\">died</th>\n",
       "      <th colspan=\"2\" halign=\"left\">euthed</th>\n",
       "    </tr>\n",
       "    <tr>\n",
       "      <th></th>\n",
       "      <th>left</th>\n",
       "      <th>right</th>\n",
       "      <th>left</th>\n",
       "      <th>right</th>\n",
       "      <th>left</th>\n",
       "      <th>right</th>\n",
       "    </tr>\n",
       "  </thead>\n",
       "  <tbody>\n",
       "    <tr>\n",
       "      <th>rectal temperature</th>\n",
       "      <td>36.75</td>\n",
       "      <td>39.55</td>\n",
       "      <td>36.05</td>\n",
       "      <td>40.45</td>\n",
       "      <td>35.75</td>\n",
       "      <td>40.15</td>\n",
       "    </tr>\n",
       "    <tr>\n",
       "      <th>pulse</th>\n",
       "      <td>12.00</td>\n",
       "      <td>108.00</td>\n",
       "      <td>18.75</td>\n",
       "      <td>144.75</td>\n",
       "      <td>0.00</td>\n",
       "      <td>160.00</td>\n",
       "    </tr>\n",
       "    <tr>\n",
       "      <th>respiratory rate</th>\n",
       "      <td>-13.25</td>\n",
       "      <td>64.75</td>\n",
       "      <td>6.00</td>\n",
       "      <td>54.00</td>\n",
       "      <td>-10.00</td>\n",
       "      <td>70.00</td>\n",
       "    </tr>\n",
       "    <tr>\n",
       "      <th>temperature of extremities</th>\n",
       "      <td>-2.00</td>\n",
       "      <td>6.00</td>\n",
       "      <td>3.00</td>\n",
       "      <td>3.00</td>\n",
       "      <td>3.00</td>\n",
       "      <td>3.00</td>\n",
       "    </tr>\n",
       "    <tr>\n",
       "      <th>pain</th>\n",
       "      <td>0.50</td>\n",
       "      <td>4.50</td>\n",
       "      <td>0.00</td>\n",
       "      <td>8.00</td>\n",
       "      <td>-1.00</td>\n",
       "      <td>7.00</td>\n",
       "    </tr>\n",
       "  </tbody>\n",
       "</table>\n",
       "</div>"
      ],
      "text/plain": [
       "                            lived           died         euthed        \n",
       "                             left   right   left   right   left   right\n",
       "rectal temperature          36.75   39.55  36.05   40.45  35.75   40.15\n",
       "pulse                       12.00  108.00  18.75  144.75   0.00  160.00\n",
       "respiratory rate           -13.25   64.75   6.00   54.00 -10.00   70.00\n",
       "temperature of extremities  -2.00    6.00   3.00    3.00   3.00    3.00\n",
       "pain                         0.50    4.50   0.00    8.00  -1.00    7.00"
      ]
     },
     "execution_count": 261,
     "metadata": {},
     "output_type": "execute_result"
    }
   ],
   "source": [
    "quant_v=1.5 # \n",
    "outcoms=['lived', 'died', 'euthed']\n",
    "confdict=dict()\n",
    "for i in [0, 1, 2]:\n",
    "    horse_group= horse[horse.outcome==i+1].describe().round(1).T\n",
    "    # display(horse_group)\n",
    "    IQR=horse_group['75%']-horse_group['25%']\n",
    "    CI_left=horse_group['25%']-quant_v*IQR\n",
    "    CI_right=horse_group['75%']+quant_v*IQR\n",
    "    confdict[outcoms[i]]=pd.DataFrame([CI_left, CI_right], index=['left', 'right'])\n",
    "lived= confdict['lived']\n",
    "died=confdict['died']\n",
    "euthed=confdict['euthed']\n",
    "feat_dest_confint=pd.concat(confdict).T.iloc[:-1, :]\n",
    "feat_dest_confint"
   ]
  },
  {
   "cell_type": "markdown",
   "metadata": {},
   "source": [
    "Мы видим что у совокупости выживших особей отмечаются более узкие доверительные интервалы ректальных температур, более низкие верхние границы доверительного интервала пульса и более высокое верхнее значение доверительного интервала показателя температуры конечности. Также у группы выживших лошадей отмечалась более низкая верхняя граница доверительного интервала оценки интенсивности болевого синдрома."
   ]
  },
  {
   "cell_type": "markdown",
   "metadata": {},
   "source": [
    "**Поиск выбросный значений**"
   ]
  },
  {
   "cell_type": "code",
   "execution_count": 264,
   "metadata": {
    "tags": []
   },
   "outputs": [
    {
     "ename": "SyntaxError",
     "evalue": "invalid syntax (1312282455.py, line 1)",
     "output_type": "error",
     "traceback": [
      "\u001b[1;36m  Cell \u001b[1;32mIn[264], line 1\u001b[1;36m\u001b[0m\n\u001b[1;33m    Посмотрим, имеются ли у нас выбросные значения.\u001b[0m\n\u001b[1;37m                       ^\u001b[0m\n\u001b[1;31mSyntaxError\u001b[0m\u001b[1;31m:\u001b[0m invalid syntax\n"
     ]
    }
   ],
   "source": [
    "Посмотрим, имеются ли у нас выбросные значения."
   ]
  },
  {
   "cell_type": "code",
   "execution_count": null,
   "metadata": {
    "colab": {
     "base_uri": "https://localhost:8080/",
     "height": 352
    },
    "id": "tS5yVAnZcfSz",
    "outputId": "1f41641e-dbe2-47e0-e4fb-7431b37f0db9",
    "tags": []
   },
   "outputs": [],
   "source": [
    "rt_ci=lived.loc['left':'right', 'rectal temperature']\n",
    "pulse_ci=lived.loc['left':'right', 'pulse']\n",
    "rr_ci=lived.loc['left':'right','respiratory rate']\n",
    "rt_outliers=np.invert(horse.query('outcome==1')['rectal temperature'].between(rt_ci.left, rt_ci.right))\n",
    "pulse_outliers=np.invert(horse.query('outcome==1')['pulse'].between(pulse_ci.left, pulse_ci.right))\n",
    "rr_outliers=np.invert(horse.query('outcome==1')['respiratory rate'].between(rr_ci.left, rr_ci.right))\n",
    "\n",
    "all_feat_ol_lived=(rt_outliers&pulse_outliers&rr_outliers)\n",
    "print(all_feat_ol_lived.value_counts())\n",
    "horse.iloc[all_feat_ol_lived[all_feat_ol_lived].index]"
   ]
  },
  {
   "cell_type": "code",
   "execution_count": null,
   "metadata": {
    "id": "IGHDM-IGbXQo",
    "tags": []
   },
   "outputs": [],
   "source": [
    "# rt_outliers=horse.query('outcome==1')['rectal temperature'].between(rt_ci.left, rt_ci.right) \n",
    "# pulse_outliers=horse.query('outcome==1')['pulse'].between(pulse_ci.left, pulse_ci.right)\n",
    "# rr_outliers=horse.query('outcome==1')['respiratory rate'].between(rr_ci.left, rr_ci.right)\n",
    "\n",
    "# all_feat_nol_lived=(rt_outliers&pulse_outliers&rr_outliers)\n",
    "# print(all_feat_nol_lived.value_counts())\n",
    "# horse.iloc[all_feat_nol_lived[~all_feat_nol_lived].index]"
   ]
  },
  {
   "cell_type": "markdown",
   "metadata": {
    "id": "oAJ5idwchrpS"
   },
   "source": [
    "Выбросы по всем трём параметрам у нас наблюдаются в 8 случаях. "
   ]
  },
  {
   "cell_type": "markdown",
   "metadata": {
    "id": "81ckqBlKZ2Ie"
   },
   "source": [
    "Для выздоровевших лошадей в качестве выбросов найдены только отсутствующие значения. Причина в отсутствии выбросов в измерениях ректальной температуры. повторим проверку без этого признака."
   ]
  },
  {
   "cell_type": "code",
   "execution_count": null,
   "metadata": {
    "colab": {
     "base_uri": "https://localhost:8080/",
     "height": 897
    },
    "id": "YqQPP2_PXHmZ",
    "outputId": "40a90640-98c6-4d52-bec3-e6d54f285299",
    "tags": []
   },
   "outputs": [],
   "source": [
    "fig,ax=plt.subplots(2, 1,  figsize=(18, 6))\n",
    "sns.boxplot(data=horse.query('outcome==1')[['pulse']], ax=ax[0], orient = 'h', whis=1.5).grid(True)\n",
    "sns.boxplot(data=horse.query('outcome==1')[['respiratory rate']], ax=ax[1], orient = 'h').grid(True)\n",
    "plt.show()\n",
    "all_feat_ol_lived=(pulse_outliers&rr_outliers)\n",
    "print(all_feat_ol_lived.value_counts())\n",
    "horse.iloc[all_feat_ol_lived[all_feat_ol_lived].index]\n"
   ]
  },
  {
   "cell_type": "markdown",
   "metadata": {
    "id": "STWq02KRgs_6"
   },
   "source": [
    "Для выживших лошадей мы нашли выбросные (по признакам pulse \trespiratory rate) наблюдения №№: 41, 103, 148*, 229, 244.\n",
    "\n",
    "\n",
    "*-По данным одного лишь признака pulse"
   ]
  },
  {
   "cell_type": "markdown",
   "metadata": {
    "id": "7IgL4gbZnkjP"
   },
   "source": [
    "Повторим проверку на выбросы для остальных классов лошадиной судьбы"
   ]
  },
  {
   "cell_type": "code",
   "execution_count": null,
   "metadata": {
    "colab": {
     "base_uri": "https://localhost:8080/",
     "height": 803
    },
    "id": "ckajjgZopyUv",
    "outputId": "227eaabf-e768-422b-b4ab-259d8bc3d20f",
    "tags": []
   },
   "outputs": [],
   "source": [
    "fig,ax=plt.subplots(2, 1,  figsize=(18, 6))\n",
    "sns.boxplot(data=horse.query('outcome==2')[['pulse']], ax=ax[0], orient = 'h').grid(True)\n",
    "sns.boxplot(data=horse.query('outcome==2')[['respiratory rate']], ax=ax[1], orient = 'h').grid(True)\n",
    "plt.show()\n",
    "rt_ci=died.loc['left':'right', 'rectal temperature']\n",
    "pulse_ci=died.loc['left':'right', 'pulse']\n",
    "rr_ci=died.loc['left':'right','respiratory rate']\n",
    "pulse_outliers=np.invert(horse.query('outcome==2')['pulse'].between(pulse_ci.left, pulse_ci.right))\n",
    "rr_outliers=np.invert(horse.query('outcome==2')['respiratory rate'].between(rr_ci.left, rr_ci.right))\n",
    "\n",
    "all_feat_ol_died=(pulse_outliers&rr_outliers)\n",
    "print(all_feat_ol_died.value_counts())\n",
    "horse.iloc[all_feat_ol_died[all_feat_ol_died].index]"
   ]
  },
  {
   "cell_type": "markdown",
   "metadata": {
    "id": "NvJ-6YqWpmKb"
   },
   "source": [
    "Для умерших лошадей мы нашли выбросные (по выбранным ранее признакам) наблюдения №№: 3, 39, 255"
   ]
  },
  {
   "cell_type": "markdown",
   "metadata": {
    "id": "mmwzTibVqK2U"
   },
   "source": [
    "Для умерщвленных лошадей:\n"
   ]
  },
  {
   "cell_type": "code",
   "execution_count": null,
   "metadata": {
    "colab": {
     "base_uri": "https://localhost:8080/",
     "height": 490
    },
    "id": "SG87L75Nqh7J",
    "outputId": "1896fed9-21c3-476b-fcc9-1118e12a696f",
    "tags": []
   },
   "outputs": [],
   "source": [
    "fig,ax=plt.subplots(2, 1,  figsize=(18, 6))\n",
    "sns.boxplot(data=horse.query('outcome==3')[['pulse']], ax=ax[0], orient = 'h', whis=1.5).grid(True)\n",
    "sns.boxplot(data=horse.query('outcome==3')[['respiratory rate']], ax=ax[1], orient = 'h').grid(True)\n",
    "plt.show()\n",
    "pulse_ci=euthed.loc['left':'right', 'pulse']\n",
    "rr_ci=euthed.loc['left':'right','respiratory rate']\n",
    "pulse_outliers=np.invert(horse.query('outcome==3')['pulse'].between(pulse_ci.left, pulse_ci.right))\n",
    "rr_outliers=np.invert(horse.query('outcome==3')['respiratory rate'].between(rr_ci.left, rr_ci.right))\n",
    "all_feat_ol_euthed=(pulse_outliers&rr_outliers)\n",
    "print(all_feat_ol_euthed.value_counts())\n",
    "horse.iloc[all_feat_ol_euthed[all_feat_ol_euthed].index]"
   ]
  },
  {
   "cell_type": "markdown",
   "metadata": {
    "id": "0enFsoPYCE6m"
   },
   "source": [
    "Для усыплённых лошадей выбросные наблюдения не найдены."
   ]
  },
  {
   "cell_type": "markdown",
   "metadata": {
    "id": "nOTdnGb_MuSh"
   },
   "source": [
    "Наконец примененим метод Тьюки к полной выборке"
   ]
  },
  {
   "cell_type": "code",
   "execution_count": null,
   "metadata": {
    "colab": {
     "base_uri": "https://localhost:8080/",
     "height": 237
    },
    "id": "Z8E3Myw4EDf_",
    "outputId": "2e224b68-1f5a-4f0f-8ee2-9e46ba81eccd",
    "tags": []
   },
   "outputs": [],
   "source": [
    "statoverview=horse.describe().round(1).T\n",
    "IQR=statoverview['75%']-statoverview['25%']\n",
    "CI_left=statoverview['25%']-quant_v*IQR\n",
    "CI_right=statoverview['75%']+quant_v*IQR\n",
    "conframe=pd.DataFrame([CI_left, CI_right], index=['left', 'right'])\n",
    "conframe.T"
   ]
  },
  {
   "cell_type": "markdown",
   "metadata": {
    "id": "ZiQRZYLuKaaR"
   },
   "source": [
    "Рассмотрим полученные результаты. "
   ]
  },
  {
   "cell_type": "code",
   "execution_count": null,
   "metadata": {
    "colab": {
     "base_uri": "https://localhost:8080/",
     "height": 1000
    },
    "id": "8ix4UNbgqpOZ",
    "outputId": "9827689a-7ee5-459a-abad-8d2fa4f112b8",
    "tags": []
   },
   "outputs": [],
   "source": [
    "fig,ax=plt.subplots(2, 1,  figsize=(18, 6))\n",
    "sns.boxplot(data=horse[['pulse']], ax=ax[0], orient = 'h', whis=1.5).grid(True)\n",
    "sns.boxplot(data=horse[['respiratory rate']], ax=ax[1], orient = 'h').grid(True)\n",
    "plt.show()\n",
    "pulse_ci=conframe.loc['left':'right', 'pulse']\n",
    "rr_ci=conframe.loc['left':'right','respiratory rate']\n",
    "\n",
    "pulse_outliers=np.invert(horse['pulse'].between(pulse_ci.left, pulse_ci.right))\n",
    "rr_outliers=np.invert(horse['respiratory rate'].between(rr_ci.left, rr_ci.right))\n",
    "\n",
    "all_feat_ol_conframe=(pulse_outliers&rr_outliers)\n",
    "print(all_feat_ol_conframe.value_counts())\n",
    "# horse.iloc[all_feat_ol_conframe[all_feat_ol_conframe]]\n",
    "horse[all_feat_ol_conframe]"
   ]
  },
  {
   "cell_type": "markdown",
   "metadata": {
    "id": "Mzit3VcTNeaH"
   },
   "source": [
    "На полной выборке метод Тьюки нашёл всего 3 выбросных значения, это наблюдения № 3, 41, 255.\n",
    "\n",
    "Итак мы осуществили поиск выбросов на всей выборке и подвыборках сформированных по исходу лечения. Несмотря на то, что большинство найденых на множестве выживших лошадей подозрительных записей укладывается в диапазон характерных значений полной выборки, они могут отражать более тяжёлое протекание болезни которое имело определённые вероятности благополучного и неблагополучного исхода. Если это так, повышенное значение данных показателей могут влиять на прогноз."
   ]
  },
  {
   "cell_type": "markdown",
   "metadata": {
    "id": "GOf3aQXNdj5s"
   },
   "source": [
    "\n",
    "**Заполнение пропусков**\n",
    "\n",
    "Рассчитаем количество пропусков для всех выбранных столбцов. "
   ]
  },
  {
   "cell_type": "code",
   "execution_count": null,
   "metadata": {
    "colab": {
     "base_uri": "https://localhost:8080/",
     "height": 269
    },
    "id": "uRKYaBExsK-j",
    "outputId": "c8b84cdd-6af2-4bee-81b6-57372dffa539",
    "tags": []
   },
   "outputs": [],
   "source": [
    "feat_na=horse.isna().sum() # Определяем количество и пропусков по признакам\n",
    "feat_na_pct=(feat_na/horse.shape[1]).round(0) \n",
    "pd.DataFrame([feat_na, feat_na_pct.round(2)],\n",
    "             index=[\"Пропуски\", \"% Пропусков\"]).astype(int).T "
   ]
  },
  {
   "cell_type": "code",
   "execution_count": null,
   "metadata": {
    "colab": {
     "base_uri": "https://localhost:8080/",
     "height": 631
    },
    "id": "4D41bUkDrTYJ",
    "outputId": "665f2d33-f2df-40bc-d72e-8b07d42848ff",
    "tags": []
   },
   "outputs": [],
   "source": [
    "# Определяем количество и процент записей содержащих пропуски по количеству отсутствующих в них признаков\n",
    "row_na=horse.iloc[:, horse.columns!='outcome'].isna().T.sum().value_counts(\n",
    "    dropna=False)  \n",
    "row_na_pct=row_na/horse.shape[1]\n",
    "display(pd.DataFrame([row_na, \n",
    "              row_na_pct.round(2)],\n",
    "              index=[\"Кол-во строк\", \n",
    "                     \"% строк с пропусками\"]).T.astype(int).reset_index()\n",
    "                     .rename(columns=({'index': \"Кол-во пропусков\"})))\n",
    "plt.figure(figsize=[7, 7])\n",
    "plt.pie(x=row_na, labels=row_na.index, autopct='%1.0f%%', \n",
    "        explode=[0, 0, 0, 0.2, 0.2, 0.2])\n",
    "plt.show()"
   ]
  },
  {
   "cell_type": "markdown",
   "metadata": {
    "id": "ef4enqKygXa6"
   },
   "source": [
    "Лишь половина записей не имеет пропущенных значений, четверть имеет один пропуск и в каждой 6 записи отсутствуют 2 значения. Целесообразность рассмотрения сторк с бОльшим количеством отсутствующих значений признаков под вопросом, а это практически 8% строк датафрейма. Возможным решением является рассмотрение признака surgery? отдельно от остальных, однако "
   ]
  },
  {
   "cell_type": "markdown",
   "metadata": {
    "id": "T-VF68aEEqe5"
   },
   "source": [
    "Посмотрим для каких признаков ситуация неблагоприятная"
   ]
  },
  {
   "cell_type": "code",
   "execution_count": null,
   "metadata": {
    "colab": {
     "base_uri": "https://localhost:8080/"
    },
    "id": "vGyOX03i_s3H",
    "outputId": "04c35651-ee05-474c-9b21-ea71b6984a51",
    "tags": []
   },
   "outputs": [],
   "source": [
    "horse.loc[horse.isna().sum(axis=1)>=3].count().sort_values()"
   ]
  },
  {
   "cell_type": "markdown",
   "metadata": {
    "id": "W00Kz-7j7fRQ"
   },
   "source": [
    "В 22 строках имеющих 3 и более пропусков лишь в двух случаях имеются значения для признаков rectal temperature и respiratory rate. "
   ]
  },
  {
   "cell_type": "code",
   "execution_count": null,
   "metadata": {
    "colab": {
     "base_uri": "https://localhost:8080/"
    },
    "id": "-XBJn993qov1",
    "outputId": "fae44681-b665-4907-b9c1-b88132caeb30",
    "tags": []
   },
   "outputs": [],
   "source": [
    "na_pct_feat=feat_na.sum()/horse.size\n",
    "print('Всего пропусков по ячейкам датафейма: {}%'.format(round(na_pct_feat*100, 1)))"
   ]
  },
  {
   "cell_type": "markdown",
   "metadata": {
    "id": "9G58U8-gX1Tu"
   },
   "source": [
    "Рассмотрим полученные результаты. Записи в которых отсутствуют 4 и более признаков, неинформативны и их целесообразно удалить. Также удалим запись с неизвестным исходом. Сделаем это и повторно рассмотрим данные."
   ]
  },
  {
   "cell_type": "code",
   "execution_count": null,
   "metadata": {
    "colab": {
     "base_uri": "https://localhost:8080/"
    },
    "id": "gtSC23vAVlnC",
    "outputId": "c685f5a6-1c96-4f4f-bbfe-2168e30b4eb9",
    "tags": []
   },
   "outputs": [],
   "source": [
    "horse=horse.loc[horse.isna().sum(axis=1)<4]\n",
    "horse=horse[horse.outcome.notna()]\n",
    "print(horse.isna().sum())\n",
    "print('\\n Количество наблюдений после удаления: {}'.format(horse.shape[0]))"
   ]
  },
  {
   "cell_type": "markdown",
   "metadata": {
    "id": "DPpvKotLHCym"
   },
   "source": []
  },
  {
   "cell_type": "markdown",
   "metadata": {
    "id": "QJX0QkLwXUHa"
   },
   "source": [
    "Рассмотрим на корреляции признаков в разрезе исходов. Для начала посмотрим какие признаки связаны с исходом лечения, а далее оценим тесноту связи между независимыми признаками в разрезе исхода.\n",
    "\n",
    "Учитывая наличие среди признаков категориальных и порядковых, для поиска корреляционных зависимостей на всём пространстве признаков мы будем использовать корреляцию Кенделла, а для корреляций между интервальными признаками мы также проведём корреляцию Пирсона. \n",
    "\n"
   ]
  },
  {
   "cell_type": "code",
   "execution_count": null,
   "metadata": {
    "colab": {
     "base_uri": "https://localhost:8080/"
    },
    "id": "lUDhDBwiTl69",
    "outputId": "361530c2-1a19-4e3f-a341-2750a7246051",
    "tags": []
   },
   "outputs": [],
   "source": [
    "horse.corr(method='kendall').outcome.round(2)"
   ]
  },
  {
   "cell_type": "code",
   "execution_count": null,
   "metadata": {
    "colab": {
     "base_uri": "https://localhost:8080/",
     "height": 645
    },
    "id": "zcHvg8p2VxHa",
    "outputId": "9201688f-d7e6-4838-e6cf-6a8e63fb52b3",
    "tags": []
   },
   "outputs": [],
   "source": [
    "horse.groupby('outcome').corr(method=\"kendall\").round(2)"
   ]
  },
  {
   "cell_type": "code",
   "execution_count": null,
   "metadata": {
    "colab": {
     "base_uri": "https://localhost:8080/",
     "height": 363
    },
    "id": "MepyKS-Ya2dO",
    "outputId": "36207b31-ff66-4033-8881-0f41f2cced7a",
    "tags": []
   },
   "outputs": [],
   "source": [
    "horse.groupby('outcome')[['rectal temperature', 'pulse', 'respiratory rate']].corr(method=\"pearson\").round(2)"
   ]
  },
  {
   "cell_type": "markdown",
   "metadata": {
    "id": "T4vYC7ZIdDE2"
   },
   "source": [
    "По признакам:\n",
    "\n",
    "1) **surgery?**: для выживших связь с болевым синдромом (у них видимо был более ярко выражен, поскольку организм по видимому покрепче), для умерщвлённых - с частотой дыхания (возможно неудачный исход операции).\n",
    "\n",
    "2) **rectal temperature**: корреляция с пульсом для умерших животных и понижением тмпературы конечностей. \n",
    "\n",
    "3) **pulse**: высокая корреляция  (высокая) с частотой дыхания, с болезненностью для выживших,а для умерших и умерщвлённых со снижением температуры конечностей (особенно для последних). Таким образом выходит что температура конечностей более информативный признак для прогнозирования исхода. Также, важно снижение корреляции пульса и частоты дыхания в ряду выжившие-умершие-эвтанизированные, по всей видимости снижение за счёт тяжести  состояния. Сочетание этих признаков выглядит перспективно с точки зрения прогнозирования исхода лечения. Для умерших также имеется связь с ректальной температурой. "
   ]
  },
  {
   "cell_type": "markdown",
   "metadata": {
    "id": "0KN0Upg4qmCx"
   },
   "source": [
    "Как мы видели ранее, медианные температуры одинаковы для всех исходов, поэтому заменяем медианным значением по всему датасету."
   ]
  },
  {
   "cell_type": "code",
   "execution_count": null,
   "metadata": {
    "id": "b5bAzHBRreoX",
    "tags": []
   },
   "outputs": [],
   "source": [
    "horse['rectal temperature'].fillna(horse['rectal temperature'].median(), inplace=True)"
   ]
  },
  {
   "cell_type": "markdown",
   "metadata": {
    "id": "k2-7jR_LsPbH"
   },
   "source": [
    "Мы также видели, что медианный пульс у выживших и погибших животных сильно различается. Заменим отсутствующие значения модальными пульсами для исходов.\n",
    "То же самое проделаем с иными признаками. Альтернативно, осуществим замены с применением алгоритма MICE"
   ]
  },
  {
   "cell_type": "code",
   "execution_count": null,
   "metadata": {
    "id": "KD2WDIgqxf-L",
    "tags": []
   },
   "outputs": [],
   "source": [
    "horse_med=horse.copy()"
   ]
  },
  {
   "cell_type": "code",
   "execution_count": null,
   "metadata": {
    "colab": {
     "base_uri": "https://localhost:8080/"
    },
    "id": "ZhSI0-xHJr2a",
    "outputId": "9f7c383e-3ad5-45e4-9e4e-d66a48bdb416",
    "tags": []
   },
   "outputs": [],
   "source": [
    "horse_med.shape"
   ]
  },
  {
   "cell_type": "code",
   "execution_count": null,
   "metadata": {
    "id": "_86kMOb-6Qhr",
    "tags": []
   },
   "outputs": [],
   "source": [
    "horse_med.pulse=horse_med.groupby(\"outcome\").pulse.transform(lambda x: x.fillna(x.median()))\n",
    "horse_med['respiratory rate']=horse_med.groupby(\"outcome\")['respiratory rate'].transform(lambda x: x.fillna(x.median()))\n",
    "horse_med['temperature of extremities']=horse_med.groupby(\"outcome\")['temperature of extremities'].transform(lambda x: x.fillna(x.median()))\n",
    "horse_med['pain']=horse_med.groupby(\"outcome\")['pain'].transform(lambda x: x.fillna(x.median()))"
   ]
  },
  {
   "cell_type": "markdown",
   "metadata": {
    "id": "N5fitsPG2JwI"
   },
   "source": [
    "Попробуем теперь осуществить замену отсутствующих значений с помощью алгоритма MICE"
   ]
  },
  {
   "cell_type": "code",
   "execution_count": null,
   "metadata": {
    "id": "Z21TOu-utCOR",
    "tags": []
   },
   "outputs": [],
   "source": [
    "# Imputing with MICE\n",
    "from sklearn.experimental import enable_iterative_imputer\n",
    "from sklearn.impute import IterativeImputer\n",
    "from sklearn import linear_model\n",
    "\n",
    "# Define MICE Imputer and fill missing values\n",
    "mice_imputer = IterativeImputer(estimator=linear_model.BayesianRidge(), n_nearest_features=None, imputation_order='ascending')\n",
    "\n",
    "horse_mice_imputed = pd.DataFrame(mice_imputer.fit_transform(horse), columns=horse.columns)"
   ]
  },
  {
   "cell_type": "markdown",
   "metadata": {
    "id": "eXSS5zhQP4Za"
   },
   "source": [
    "Определим насколько коррелированы наши датасеты после замены отсутствующих значений"
   ]
  },
  {
   "cell_type": "code",
   "execution_count": null,
   "metadata": {
    "colab": {
     "base_uri": "https://localhost:8080/"
    },
    "id": "cZFzV17d9-qM",
    "outputId": "fae99c52-dbe3-4b92-f627-66575be4a07d",
    "tags": []
   },
   "outputs": [],
   "source": [
    "horse_med.reset_index(drop=True).corrwith(horse_mice_imputed.reset_index(drop=True))"
   ]
  },
  {
   "cell_type": "code",
   "execution_count": null,
   "metadata": {
    "colab": {
     "base_uri": "https://localhost:8080/",
     "height": 175
    },
    "id": "bMJmsOoqMA7Z",
    "outputId": "8bddaa08-7482-4bf9-9dd4-d3c88287360d",
    "tags": []
   },
   "outputs": [],
   "source": [
    "listtodf=[]\n",
    "for i in range(1, 4):\n",
    "    listtodf.append(horse_med[horse_med['outcome']==i].reset_index(drop=True).corrwith(horse_mice_imputed[horse_mice_imputed['outcome']==i].reset_index(drop=True)))\n",
    "df=pd.DataFrame(listtodf).round(3)\n",
    "df.index.name='outcome'\n",
    "del df['outcome']\n",
    "display(df)\n"
   ]
  },
  {
   "cell_type": "markdown",
   "metadata": {
    "id": "-bFfL1jdRQCh"
   },
   "source": [
    "ЗАКЛЮЧЕНИЕ\n",
    "\n",
    "Датафрейм содержит достаточно много данных в сравнении с полным объёмом данных в исходном текстовом файле. Между некоторыми признаками имеется достаточно сильная корреляция, однако мультиколлинеарность маловероятна. Вполне ожидаемо подтерждается предположение о том, что во вличнии на выздоровление и летальный исход могут преобладать разные признаки.\n",
    "\n",
    "Использованы две стратегии замены данных, и какая из них более адекватна задаче необходимо выяснить дополнительно. Также возможно имеет смысл объединить исходы 2 и 3, а естественность смерти животного закодировать отдельно. \n",
    "\n",
    "\n",
    "\n",
    "\n"
   ]
  }
 ],
 "metadata": {
  "colab": {
   "provenance": []
  },
  "kernelspec": {
   "display_name": "Python 3 (ipykernel)",
   "language": "python",
   "name": "python3"
  },
  "language_info": {
   "codemirror_mode": {
    "name": "ipython",
    "version": 3
   },
   "file_extension": ".py",
   "mimetype": "text/x-python",
   "name": "python",
   "nbconvert_exporter": "python",
   "pygments_lexer": "ipython3",
   "version": "3.9.18"
  }
 },
 "nbformat": 4,
 "nbformat_minor": 4
}
